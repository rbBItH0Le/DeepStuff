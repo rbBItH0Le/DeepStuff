{
 "cells": [
  {
   "cell_type": "code",
   "execution_count": 1,
   "metadata": {
    "id": "fIZiTRbILNnN"
   },
   "outputs": [],
   "source": [
    "import numpy as np\n",
    "import pandas as pd\n",
    "import tensorflow as tf"
   ]
  },
  {
   "cell_type": "code",
   "execution_count": 2,
   "metadata": {
    "id": "ZTxwOu0VNW5Q"
   },
   "outputs": [],
   "source": [
    "from keras.preprocessing.image import ImageDataGenerator"
   ]
  },
  {
   "cell_type": "code",
   "execution_count": 11,
   "metadata": {
    "colab": {
     "base_uri": "https://localhost:8080/",
     "height": 35
    },
    "id": "2Se3npRROOlf",
    "outputId": "17c7d7eb-46b8-4e77-9838-173d55690d63"
   },
   "outputs": [
    {
     "name": "stdout",
     "output_type": "stream",
     "text": [
      " Volume in drive C is WINDOWS\n",
      " Volume Serial Number is D482-E515\n",
      "\n",
      " Directory of C:\\Users\\rohan\\Documents\n",
      "\n",
      "02/07/2021  11:18 PM    <DIR>          .\n",
      "02/07/2021  11:18 PM    <DIR>          ..\n",
      "02/05/2021  09:34 PM    <DIR>          .ipynb_checkpoints\n",
      "04/20/2020  02:45 PM                 0 .Rhistory\n",
      "01/31/2019  09:48 PM             2,436 50_Startups.csv\n",
      "01/26/2021  10:46 PM            16,470 Adfullergragercausality.ipynb\n",
      "03/14/2019  06:40 PM             2,049 airline_passengers.csv\n",
      "02/03/2021  12:07 AM             2,013 ANN.ipynb\n",
      "01/30/2021  07:37 PM           183,568 ARIMA.ipynb\n",
      "08/17/2020  04:34 PM    <DIR>          Call of Duty Modern Warfare\n",
      "01/08/2021  09:18 PM             1,375 Cassandraspark.txt\n",
      "10/13/2020  02:42 PM    <DIR>          CELSYS\n",
      "04/08/2020  01:07 AM           684,858 Churn_Modelling.csv\n",
      "03/14/2019  06:40 PM            22,055 co2_mm_mlo.csv\n",
      "08/01/2020  11:23 PM    <DIR>          Custom Office Templates\n",
      "03/14/2019  06:40 PM             4,744 DailyTotalFemaleBirths.csv\n",
      "04/23/2019  01:14 PM    <DIR>          dataset\n",
      "01/14/2021  12:08 PM    <DIR>          DBSCAN-Algorithm-master\n",
      "02/06/2021  06:26 PM    <DIR>          DEEP\n",
      "02/06/2021  06:29 PM    <DIR>          DeepStuff\n",
      "12/21/2020  08:29 PM    <DIR>          Deployment\n",
      "01/07/2021  03:26 AM    <DIR>          Electronic Arts\n",
      "10/09/2020  09:13 AM    <DIR>          Fax\n",
      "12/26/2020  09:25 AM    <DIR>          FIFA 19\n",
      "03/26/2014  11:30 AM         2,029,440 Folds5x2_pp.xlsx\n",
      "02/02/2021  11:01 AM            10,626 FrequencyEncoding.ipynb\n",
      "01/02/2021  10:21 PM                40 gcp_cluster.txt\n",
      "02/22/2017  08:45 PM    <DIR>          HadoopMaterials\n",
      "11/29/2020  03:13 AM         3,958,351 Hair_Nords_CeciliaV2.package\n",
      "11/29/2020  03:12 AM         3,527,364 Hair_Nords_Rain.package\n",
      "11/29/2020  03:11 AM         3,462,284 Hair_Nords_Randa.package\n",
      "01/23/2021  08:32 PM            79,939 holtwinterstripleexp.ipynb\n",
      "01/23/2021  08:50 PM            18,693 IPG2211A2N.csv\n",
      "12/02/2020  07:21 AM    <DIR>          learnbay-deployment-models-master\n",
      "04/21/2019  10:36 AM             4,101 M2SLMoneyStock.csv\n",
      "05/14/2020  09:09 PM    <DIR>          Machine Learning A-Z (Codes and Datasets)\n",
      "06/05/2019  08:20 PM             4,286 Mall_Customers.csv\n",
      "02/01/2021  10:45 AM         3,220,873 mercedesbenz.csv\n",
      "01/31/2021  02:52 PM    <DIR>          ML Algos\n",
      "01/27/2021  10:25 PM            67,067 monthquarterplot.ipynb\n",
      "07/23/2020  10:48 PM    <DIR>          My Data Files\n",
      "09/26/2020  01:55 PM    <DIR>          My Games\n",
      "11/22/2020  02:27 PM    <DIR>          My Tableau Repository\n",
      "04/15/2020  08:43 AM    <DIR>          NST_SAVES\n",
      "02/01/2021  08:50 PM            33,783 onehotformultiplevariables.ipynb\n",
      "06/27/2020  02:22 PM           199,548 original.pdf\n",
      "01/28/2021  10:56 PM            18,196 PARmid.ipynb\n",
      "04/21/2019  10:36 AM             4,134 PCEPersonalSpending.csv\n",
      "03/27/2020  11:06 AM    <DIR>          Python Scripts\n",
      "04/20/2020  09:23 AM    <DIR>          R\n",
      "11/30/2018  01:46 AM            31,508 reaganomics.txt\n",
      "04/21/2019  10:36 AM            19,920 RestaurantVisitors.csv\n",
      "05/25/2020  01:26 AM    <DIR>          Rockstar Games\n",
      "12/22/2020  10:40 AM    <DIR>          Salary prediction\n",
      "12/23/2020  10:32 AM    <DIR>          salary_prediction_aws\n",
      "12/21/2020  11:18 PM    <DIR>          salary_prediction_aws-master\n",
      "01/31/2021  08:03 PM           643,167 SARIMANonExo.ipynb\n",
      "01/30/2021  09:07 PM           167,166 SARIMAX.ipynb\n",
      "10/09/2020  09:13 AM    <DIR>          Scanned Documents\n",
      "01/17/2021  08:36 PM             7,292 sentence segmentation.ipynb\n",
      "01/23/2021  07:04 PM            39,884 simpleexpStatsmodel.ipynb\n",
      "10/13/2020  12:08 PM    <DIR>          Smith Micro\n",
      "11/30/2018  01:46 AM           513,887 smsspamcollection.tsv\n",
      "04/22/2019  01:23 PM            10,526 Social_Network_Ads.csv\n",
      "01/02/2021  10:50 PM            21,197 Spacu.ipynb\n",
      "11/01/2020  11:34 PM    <DIR>          SQL Server Management Studio\n",
      "01/04/2020  08:29 AM    <DIR>          The Witcher 3\n",
      "06/30/2020  09:06 PM            60,301 titanic.csv\n",
      "04/21/2019  10:36 AM             4,571 TradeInventories.csv\n",
      "07/20/2000  02:39 AM         1,979,173 u.data\n",
      "04/22/2019  02:02 PM    <DIR>          UDEMY_TSA_FINAL\n",
      "12/26/2020  07:25 PM             4,661 Untitled.ipynb\n",
      "12/26/2020  07:27 PM             4,673 Untitled1.ipynb\n",
      "01/31/2021  07:09 PM             2,360 Untitled10.ipynb\n",
      "01/16/2021  08:09 PM            30,893 Untitled11.ipynb\n",
      "01/16/2021  11:30 PM            14,932 Untitled12.ipynb\n",
      "01/18/2021  10:33 PM            22,031 Untitled13.ipynb\n",
      "01/21/2021  10:38 PM            74,773 Untitled14.ipynb\n",
      "01/22/2021  10:28 PM            63,747 Untitled15.ipynb\n",
      "01/23/2021  11:41 PM               555 Untitled16.ipynb\n",
      "01/24/2021  09:58 PM            64,725 Untitled17.ipynb\n",
      "01/25/2021  10:50 PM            29,189 Untitled18.ipynb\n",
      "01/29/2021  12:54 AM             1,826 Untitled19.ipynb\n",
      "01/01/2021  11:14 AM            27,004 Untitled2.ipynb\n",
      "01/27/2021  09:52 PM               555 Untitled20.ipynb\n",
      "01/29/2021  09:32 PM            18,755 Untitled21.ipynb\n",
      "02/05/2021  10:23 AM               555 Untitled22.ipynb\n",
      "02/05/2021  09:38 PM               702 Untitled23.ipynb\n",
      "01/02/2021  07:49 PM            20,591 Untitled3.ipynb\n",
      "01/03/2021  11:20 PM            65,055 Untitled4.ipynb\n",
      "01/04/2021  11:02 PM               555 Untitled5.ipynb\n",
      "02/07/2021  11:18 PM            10,825 Untitled6.ipynb\n",
      "01/07/2021  09:38 PM             5,893 Untitled7.ipynb\n",
      "01/07/2021  10:03 PM               555 Untitled8.ipynb\n",
      "01/31/2021  04:49 PM           120,139 Untitled9.ipynb\n",
      "01/28/2019  01:13 AM    <DIR>          UPDATED_NLP_COURSE\n",
      "03/14/2019  06:40 PM             1,571 uspopulation.csv\n",
      "01/31/2021  11:39 PM           118,715 VAR.ipynb\n",
      "01/04/2021  09:41 AM    <DIR>          Virtual Machines\n",
      "11/01/2020  06:53 PM    <DIR>          Visual Studio 2010\n",
      "12/22/2020  10:49 PM             1,464 wencho.ppk\n",
      "10/22/2020  08:34 AM    <DIR>          Zoom\n",
      "              65 File(s)     21,764,184 bytes\n",
      "              37 Dir(s)  1,507,329,273,856 bytes free\n"
     ]
    }
   ],
   "source": [
    "ls "
   ]
  },
  {
   "cell_type": "code",
   "execution_count": 12,
   "metadata": {
    "id": "Jz8gUuvSOSUh"
   },
   "outputs": [
    {
     "name": "stdout",
     "output_type": "stream",
     "text": [
      "Found 8000 images belonging to 2 classes.\n"
     ]
    }
   ],
   "source": [
    "train_datagen = ImageDataGenerator(\n",
    "        rescale=1./255,\n",
    "        shear_range=0.2,\n",
    "        zoom_range=0.2,\n",
    "        horizontal_flip=True)\n",
    "trainig_set = train_datagen.flow_from_directory(\n",
    "        'dataset\\\\training_set',\n",
    "        target_size=(64, 64),\n",
    "        batch_size=32,\n",
    "        class_mode='binary')"
   ]
  },
  {
   "cell_type": "code",
   "execution_count": 13,
   "metadata": {
    "id": "ErjK3pzFTUOn"
   },
   "outputs": [
    {
     "name": "stdout",
     "output_type": "stream",
     "text": [
      "Found 2000 images belonging to 2 classes.\n"
     ]
    }
   ],
   "source": [
    "test_datagen = ImageDataGenerator(rescale=1./255)\n",
    "test_set = test_datagen.flow_from_directory(\n",
    "        'dataset\\\\test_set',\n",
    "        target_size=(64,64),\n",
    "        batch_size=32,\n",
    "        class_mode='binary')"
   ]
  },
  {
   "cell_type": "code",
   "execution_count": 14,
   "metadata": {
    "id": "SwIxkm7gY-vg"
   },
   "outputs": [],
   "source": [
    "cnn=tf.keras.models.Sequential()"
   ]
  },
  {
   "cell_type": "code",
   "execution_count": 15,
   "metadata": {
    "id": "aFCj-4VcZICu"
   },
   "outputs": [],
   "source": [
    "cnn.add(tf.keras.layers.Conv2D(filters=32,kernel_size=3,activation='relu',input_shape=[64,64,3]))"
   ]
  },
  {
   "cell_type": "code",
   "execution_count": 16,
   "metadata": {
    "id": "9FApY8pybNHs"
   },
   "outputs": [],
   "source": [
    "cnn.add(tf.keras.layers.MaxPool2D(pool_size=2,strides=2))"
   ]
  },
  {
   "cell_type": "code",
   "execution_count": 17,
   "metadata": {
    "id": "wsTOkZu2cYMh"
   },
   "outputs": [],
   "source": [
    "cnn.add(tf.keras.layers.Conv2D(filters=32,kernel_size=3,activation='relu'))\n",
    "cnn.add(tf.keras.layers.MaxPool2D(pool_size=2,strides=2))"
   ]
  },
  {
   "cell_type": "code",
   "execution_count": 18,
   "metadata": {
    "id": "3Ts8gyUucvnH"
   },
   "outputs": [],
   "source": [
    "cnn.add(tf.keras.layers.Flatten())"
   ]
  },
  {
   "cell_type": "code",
   "execution_count": 19,
   "metadata": {
    "id": "T2Iq_CtNdvYW"
   },
   "outputs": [],
   "source": [
    "cnn.add(tf.keras.layers.Dense(units=128,activation='relu'))"
   ]
  },
  {
   "cell_type": "code",
   "execution_count": 20,
   "metadata": {
    "id": "G17SjqIseOQZ"
   },
   "outputs": [],
   "source": [
    "cnn.add(tf.keras.layers.Dense(units=1,activation='sigmoid'))"
   ]
  },
  {
   "cell_type": "code",
   "execution_count": 21,
   "metadata": {
    "id": "Wi8LOmbYeDsb"
   },
   "outputs": [],
   "source": [
    "cnn.compile(optimizer='adam',loss='binary_crossentropy',metrics=['accuracy'])"
   ]
  },
  {
   "cell_type": "code",
   "execution_count": 22,
   "metadata": {
    "id": "oskIN74IfWkV"
   },
   "outputs": [
    {
     "name": "stdout",
     "output_type": "stream",
     "text": [
      "Epoch 1/25\n",
      "250/250 [==============================] - 112s 446ms/step - loss: 0.6926 - accuracy: 0.5386 - val_loss: 0.6231 - val_accuracy: 0.6520\n",
      "Epoch 2/25\n",
      "250/250 [==============================] - 49s 197ms/step - loss: 0.6179 - accuracy: 0.6580 - val_loss: 0.5575 - val_accuracy: 0.7205\n",
      "Epoch 3/25\n",
      "250/250 [==============================] - 49s 197ms/step - loss: 0.5600 - accuracy: 0.7050 - val_loss: 0.5305 - val_accuracy: 0.7375\n",
      "Epoch 4/25\n",
      "250/250 [==============================] - 49s 195ms/step - loss: 0.5352 - accuracy: 0.7350 - val_loss: 0.5091 - val_accuracy: 0.7495\n",
      "Epoch 5/25\n",
      "250/250 [==============================] - 49s 196ms/step - loss: 0.5180 - accuracy: 0.7472 - val_loss: 0.5346 - val_accuracy: 0.7355\n",
      "Epoch 6/25\n",
      "250/250 [==============================] - 49s 195ms/step - loss: 0.4976 - accuracy: 0.7580 - val_loss: 0.4848 - val_accuracy: 0.7720\n",
      "Epoch 7/25\n",
      "250/250 [==============================] - 49s 195ms/step - loss: 0.4757 - accuracy: 0.7700 - val_loss: 0.4833 - val_accuracy: 0.7725\n",
      "Epoch 8/25\n",
      "250/250 [==============================] - 49s 195ms/step - loss: 0.4658 - accuracy: 0.7794 - val_loss: 0.4649 - val_accuracy: 0.7775\n",
      "Epoch 9/25\n",
      "250/250 [==============================] - 49s 195ms/step - loss: 0.4279 - accuracy: 0.8017 - val_loss: 0.4464 - val_accuracy: 0.7915\n",
      "Epoch 10/25\n",
      "250/250 [==============================] - 49s 195ms/step - loss: 0.4190 - accuracy: 0.8018 - val_loss: 0.4719 - val_accuracy: 0.7810\n",
      "Epoch 11/25\n",
      "250/250 [==============================] - 49s 195ms/step - loss: 0.4165 - accuracy: 0.8048 - val_loss: 0.5171 - val_accuracy: 0.7330\n",
      "Epoch 12/25\n",
      "250/250 [==============================] - 49s 197ms/step - loss: 0.4042 - accuracy: 0.8169 - val_loss: 0.4540 - val_accuracy: 0.7895\n",
      "Epoch 13/25\n",
      "250/250 [==============================] - 49s 197ms/step - loss: 0.3854 - accuracy: 0.8213 - val_loss: 0.4880 - val_accuracy: 0.7840\n",
      "Epoch 14/25\n",
      "250/250 [==============================] - 48s 194ms/step - loss: 0.3773 - accuracy: 0.8258 - val_loss: 0.5112 - val_accuracy: 0.7800\n",
      "Epoch 15/25\n",
      "250/250 [==============================] - 49s 197ms/step - loss: 0.3575 - accuracy: 0.8432 - val_loss: 0.4783 - val_accuracy: 0.7930\n",
      "Epoch 16/25\n",
      "250/250 [==============================] - 49s 196ms/step - loss: 0.3501 - accuracy: 0.8399 - val_loss: 0.4707 - val_accuracy: 0.7880\n",
      "Epoch 17/25\n",
      "250/250 [==============================] - 49s 196ms/step - loss: 0.3203 - accuracy: 0.8592 - val_loss: 0.4589 - val_accuracy: 0.7945\n",
      "Epoch 18/25\n",
      "250/250 [==============================] - 49s 195ms/step - loss: 0.3118 - accuracy: 0.8625 - val_loss: 0.4607 - val_accuracy: 0.8000\n",
      "Epoch 19/25\n",
      "250/250 [==============================] - 53s 211ms/step - loss: 0.3087 - accuracy: 0.8672 - val_loss: 0.4811 - val_accuracy: 0.7910\n",
      "Epoch 20/25\n",
      "250/250 [==============================] - 53s 213ms/step - loss: 0.2991 - accuracy: 0.8707 - val_loss: 0.4878 - val_accuracy: 0.7865\n",
      "Epoch 21/25\n",
      "250/250 [==============================] - 53s 210ms/step - loss: 0.2822 - accuracy: 0.8829 - val_loss: 0.4796 - val_accuracy: 0.7930\n",
      "Epoch 22/25\n",
      "250/250 [==============================] - 49s 198ms/step - loss: 0.2602 - accuracy: 0.8887 - val_loss: 0.4674 - val_accuracy: 0.7990\n",
      "Epoch 23/25\n",
      "250/250 [==============================] - 49s 194ms/step - loss: 0.2641 - accuracy: 0.8886 - val_loss: 0.5124 - val_accuracy: 0.8060\n",
      "Epoch 24/25\n",
      "250/250 [==============================] - 49s 197ms/step - loss: 0.2424 - accuracy: 0.8938 - val_loss: 0.5710 - val_accuracy: 0.7910\n",
      "Epoch 25/25\n",
      "250/250 [==============================] - 49s 196ms/step - loss: 0.2401 - accuracy: 0.8986 - val_loss: 0.4998 - val_accuracy: 0.8070\n"
     ]
    },
    {
     "data": {
      "text/plain": [
       "<tensorflow.python.keras.callbacks.History at 0x180c4c51648>"
      ]
     },
     "execution_count": 22,
     "metadata": {},
     "output_type": "execute_result"
    }
   ],
   "source": [
    "cnn.fit(x=trainig_set, validation_data=test_set,epochs=25,)"
   ]
  },
  {
   "cell_type": "code",
   "execution_count": 23,
   "metadata": {
    "id": "JM0ySTyyiP5t"
   },
   "outputs": [],
   "source": [
    "import numpy as np\n",
    "from keras.preprocessing import image"
   ]
  },
  {
   "cell_type": "code",
   "execution_count": 44,
   "metadata": {
    "id": "DG4MW2QeifqL"
   },
   "outputs": [],
   "source": [
    "test_image=image.load_img('dataset\\\\single_prediction\\\\cat.4327.jpg',target_size=(64,64))  "
   ]
  },
  {
   "cell_type": "code",
   "execution_count": 45,
   "metadata": {
    "id": "b9NdjX2ejQCq"
   },
   "outputs": [],
   "source": [
    "test_image=image.img_to_array(test_image)"
   ]
  },
  {
   "cell_type": "code",
   "execution_count": 46,
   "metadata": {
    "id": "5vWLXCQLuNv_"
   },
   "outputs": [],
   "source": [
    "test_image=np.expand_dims(test_image,axis=0)"
   ]
  },
  {
   "cell_type": "code",
   "execution_count": 47,
   "metadata": {
    "id": "FyMO88PGzDY0"
   },
   "outputs": [],
   "source": [
    "result=cnn.predict(test_image)"
   ]
  },
  {
   "cell_type": "code",
   "execution_count": 48,
   "metadata": {
    "id": "Yz60mVjyzeJr"
   },
   "outputs": [
    {
     "data": {
      "text/plain": [
       "{'cats': 0, 'dogs': 1}"
      ]
     },
     "execution_count": 48,
     "metadata": {},
     "output_type": "execute_result"
    }
   ],
   "source": [
    "trainig_set.class_indices"
   ]
  },
  {
   "cell_type": "code",
   "execution_count": 49,
   "metadata": {
    "id": "rk2Lrhqm0GhV"
   },
   "outputs": [
    {
     "name": "stdout",
     "output_type": "stream",
     "text": [
      "catto\n"
     ]
    }
   ],
   "source": [
    "if result[0][0]>0.5:\n",
    "  prediction='doggo'\n",
    "else:\n",
    "  prediction='catto'\n",
    "\n",
    "print(prediction)"
   ]
  },
  {
   "cell_type": "code",
   "execution_count": null,
   "metadata": {},
   "outputs": [],
   "source": []
  }
 ],
 "metadata": {
  "colab": {
   "name": "Untitled6.ipynb",
   "provenance": []
  },
  "kernelspec": {
   "display_name": "Python 3",
   "language": "python",
   "name": "python3"
  },
  "language_info": {
   "codemirror_mode": {
    "name": "ipython",
    "version": 3
   },
   "file_extension": ".py",
   "mimetype": "text/x-python",
   "name": "python",
   "nbconvert_exporter": "python",
   "pygments_lexer": "ipython3",
   "version": "3.7.6"
  }
 },
 "nbformat": 4,
 "nbformat_minor": 1
}
